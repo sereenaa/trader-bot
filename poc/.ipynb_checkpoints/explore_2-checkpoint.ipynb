{
 "cells": [
  {
   "cell_type": "code",
   "execution_count": 5,
   "metadata": {},
   "outputs": [],
   "source": [
    "import pandas as pd \n",
    "import numpy as np\n",
    "import csv\n",
    "import datetime\n",
    "\n",
    "import matplotlib.pyplot as plt\n",
    "import pandas as pd\n"
   ]
  },
  {
   "cell_type": "code",
   "execution_count": 3,
   "metadata": {},
   "outputs": [],
   "source": [
    "anz_df = pd.read_csv('ANZ.AX.csv')\n",
    "cba_df = pd.read_csv('CBA.AX.csv')\n",
    "nab_df = pd.read_csv('NAB.AX.csv')\n",
    "\n",
    "anz_df = anz_df.dropna()\n",
    "cba_df = cba_df.dropna()\n",
    "nab_df = nab_df.dropna()\n",
    "\n",
    "anz_df['day_of_week'] = anz_df.apply(lambda row: datetime.datetime.strptime(row.Date, '%Y-%m-%d').strftime('%A'), axis = 1)\n",
    "cba_df['day_of_week'] = cba_df.apply(lambda row: datetime.datetime.strptime(row.Date, '%Y-%m-%d').strftime('%A'), axis = 1)\n",
    "nab_df['day_of_week'] = nab_df.apply(lambda row: datetime.datetime.strptime(row.Date, '%Y-%m-%d').strftime('%A'), axis = 1)\n",
    "\n",
    "\n",
    "anz_fri_df = anz_df[anz_df['day_of_week'].str.match('Friday')]\n",
    "anz_fri_df = pd.DataFrame(anz_fri_df, columns = ['Open', 'Close'])"
   ]
  },
  {
   "cell_type": "code",
   "execution_count": 4,
   "metadata": {},
   "outputs": [
    {
     "data": {
      "text/html": [
       "<div>\n",
       "<style scoped>\n",
       "    .dataframe tbody tr th:only-of-type {\n",
       "        vertical-align: middle;\n",
       "    }\n",
       "\n",
       "    .dataframe tbody tr th {\n",
       "        vertical-align: top;\n",
       "    }\n",
       "\n",
       "    .dataframe thead th {\n",
       "        text-align: right;\n",
       "    }\n",
       "</style>\n",
       "<table border=\"1\" class=\"dataframe\">\n",
       "  <thead>\n",
       "    <tr style=\"text-align: right;\">\n",
       "      <th></th>\n",
       "      <th>Open</th>\n",
       "      <th>Close</th>\n",
       "    </tr>\n",
       "  </thead>\n",
       "  <tbody>\n",
       "    <tr>\n",
       "      <th>0</th>\n",
       "      <td>3.205740</td>\n",
       "      <td>3.205740</td>\n",
       "    </tr>\n",
       "    <tr>\n",
       "      <th>65</th>\n",
       "      <td>4.075090</td>\n",
       "      <td>4.075090</td>\n",
       "    </tr>\n",
       "    <tr>\n",
       "      <th>130</th>\n",
       "      <td>4.382990</td>\n",
       "      <td>4.382990</td>\n",
       "    </tr>\n",
       "    <tr>\n",
       "      <th>175</th>\n",
       "      <td>5.001700</td>\n",
       "      <td>5.001700</td>\n",
       "    </tr>\n",
       "    <tr>\n",
       "      <th>240</th>\n",
       "      <td>5.170930</td>\n",
       "      <td>5.170930</td>\n",
       "    </tr>\n",
       "    <tr>\n",
       "      <th>...</th>\n",
       "      <td>...</td>\n",
       "      <td>...</td>\n",
       "    </tr>\n",
       "    <tr>\n",
       "      <th>8242</th>\n",
       "      <td>27.030001</td>\n",
       "      <td>27.240000</td>\n",
       "    </tr>\n",
       "    <tr>\n",
       "      <th>8247</th>\n",
       "      <td>25.100000</td>\n",
       "      <td>24.830000</td>\n",
       "    </tr>\n",
       "    <tr>\n",
       "      <th>8252</th>\n",
       "      <td>22.809999</td>\n",
       "      <td>22.139999</td>\n",
       "    </tr>\n",
       "    <tr>\n",
       "      <th>8257</th>\n",
       "      <td>16.799999</td>\n",
       "      <td>18.799999</td>\n",
       "    </tr>\n",
       "    <tr>\n",
       "      <th>8262</th>\n",
       "      <td>15.900000</td>\n",
       "      <td>16.020000</td>\n",
       "    </tr>\n",
       "  </tbody>\n",
       "</table>\n",
       "<p>1135 rows × 2 columns</p>\n",
       "</div>"
      ],
      "text/plain": [
       "           Open      Close\n",
       "0      3.205740   3.205740\n",
       "65     4.075090   4.075090\n",
       "130    4.382990   4.382990\n",
       "175    5.001700   5.001700\n",
       "240    5.170930   5.170930\n",
       "...         ...        ...\n",
       "8242  27.030001  27.240000\n",
       "8247  25.100000  24.830000\n",
       "8252  22.809999  22.139999\n",
       "8257  16.799999  18.799999\n",
       "8262  15.900000  16.020000\n",
       "\n",
       "[1135 rows x 2 columns]"
      ]
     },
     "execution_count": 4,
     "metadata": {},
     "output_type": "execute_result"
    }
   ],
   "source": [
    "anz_fri_df"
   ]
  },
  {
   "cell_type": "code",
   "execution_count": 8,
   "metadata": {},
   "outputs": [
    {
     "data": {
      "image/png": "[encoded data removed]",
      "text/plain": [
       "<Figure size 432x288 with 1 Axes>"
      ]
     },
     "metadata": {
      "needs_background": "light"
     },
     "output_type": "display_data"
    },
    {
     "data": {
      "text/plain": [
       "<Figure size 432x288 with 0 Axes>"
      ]
     },
     "metadata": {},
     "output_type": "display_data"
    }
   ],
   "source": [
    "ax = plt.gca()\n",
    "\n",
    "anz_fri_df.plot(kind='line',y='Open',ax=ax)\n",
    "anz_fri_df.plot(kind='line',y='Close', color='red', ax=ax)\n",
    "\n",
    "plt.show()\n",
    "plt.savefig('fri_anz_open_close.jpeg')"
   ]
  },
  {
   "cell_type": "code",
   "execution_count": 9,
   "metadata": {},
   "outputs": [],
   "source": [
    "anz_fri_df.loc[(anz_fri_df['Close'] > anz_fri_df['Open']), 'Close_higher_ind'] = 1\n",
    "\n",
    "anz_fri_df['Close_higher_ind'] = anz_fri_df['Close_higher_ind'].fillna(0)"
   ]
  },
  {
   "cell_type": "code",
   "execution_count": 10,
   "metadata": {},
   "outputs": [
    {
     "data": {
      "text/html": [
       "<div>\n",
       "<style scoped>\n",
       "    .dataframe tbody tr th:only-of-type {\n",
       "        vertical-align: middle;\n",
       "    }\n",
       "\n",
       "    .dataframe tbody tr th {\n",
       "        vertical-align: top;\n",
       "    }\n",
       "\n",
       "    .dataframe thead th {\n",
       "        text-align: right;\n",
       "    }\n",
       "</style>\n",
       "<table border=\"1\" class=\"dataframe\">\n",
       "  <thead>\n",
       "    <tr style=\"text-align: right;\">\n",
       "      <th></th>\n",
       "      <th>Open</th>\n",
       "      <th>Close</th>\n",
       "      <th>Close_higher_ind</th>\n",
       "    </tr>\n",
       "  </thead>\n",
       "  <tbody>\n",
       "    <tr>\n",
       "      <th>0</th>\n",
       "      <td>3.205740</td>\n",
       "      <td>3.205740</td>\n",
       "      <td>0.0</td>\n",
       "    </tr>\n",
       "    <tr>\n",
       "      <th>65</th>\n",
       "      <td>4.075090</td>\n",
       "      <td>4.075090</td>\n",
       "      <td>0.0</td>\n",
       "    </tr>\n",
       "    <tr>\n",
       "      <th>130</th>\n",
       "      <td>4.382990</td>\n",
       "      <td>4.382990</td>\n",
       "      <td>0.0</td>\n",
       "    </tr>\n",
       "    <tr>\n",
       "      <th>175</th>\n",
       "      <td>5.001700</td>\n",
       "      <td>5.001700</td>\n",
       "      <td>0.0</td>\n",
       "    </tr>\n",
       "    <tr>\n",
       "      <th>240</th>\n",
       "      <td>5.170930</td>\n",
       "      <td>5.170930</td>\n",
       "      <td>0.0</td>\n",
       "    </tr>\n",
       "    <tr>\n",
       "      <th>...</th>\n",
       "      <td>...</td>\n",
       "      <td>...</td>\n",
       "      <td>...</td>\n",
       "    </tr>\n",
       "    <tr>\n",
       "      <th>8242</th>\n",
       "      <td>27.030001</td>\n",
       "      <td>27.240000</td>\n",
       "      <td>1.0</td>\n",
       "    </tr>\n",
       "    <tr>\n",
       "      <th>8247</th>\n",
       "      <td>25.100000</td>\n",
       "      <td>24.830000</td>\n",
       "      <td>0.0</td>\n",
       "    </tr>\n",
       "    <tr>\n",
       "      <th>8252</th>\n",
       "      <td>22.809999</td>\n",
       "      <td>22.139999</td>\n",
       "      <td>0.0</td>\n",
       "    </tr>\n",
       "    <tr>\n",
       "      <th>8257</th>\n",
       "      <td>16.799999</td>\n",
       "      <td>18.799999</td>\n",
       "      <td>1.0</td>\n",
       "    </tr>\n",
       "    <tr>\n",
       "      <th>8262</th>\n",
       "      <td>15.900000</td>\n",
       "      <td>16.020000</td>\n",
       "      <td>1.0</td>\n",
       "    </tr>\n",
       "  </tbody>\n",
       "</table>\n",
       "<p>1135 rows × 3 columns</p>\n",
       "</div>"
      ],
      "text/plain": [
       "           Open      Close  Close_higher_ind\n",
       "0      3.205740   3.205740               0.0\n",
       "65     4.075090   4.075090               0.0\n",
       "130    4.382990   4.382990               0.0\n",
       "175    5.001700   5.001700               0.0\n",
       "240    5.170930   5.170930               0.0\n",
       "...         ...        ...               ...\n",
       "8242  27.030001  27.240000               1.0\n",
       "8247  25.100000  24.830000               0.0\n",
       "8252  22.809999  22.139999               0.0\n",
       "8257  16.799999  18.799999               1.0\n",
       "8262  15.900000  16.020000               1.0\n",
       "\n",
       "[1135 rows x 3 columns]"
      ]
     },
     "execution_count": 10,
     "metadata": {},
     "output_type": "execute_result"
    }
   ],
   "source": [
    "anz_fri_df"
   ]
  },
  {
   "cell_type": "code",
   "execution_count": null,
   "metadata": {},
   "outputs": [],
   "source": [
    "sum(anz_fri_df['Close_higher_ind'])"
   ]
  }
 ],
 "metadata": {
  "kernelspec": {
   "display_name": "Python 3",
   "language": "python",
   "name": "python3"
  },
  "language_info": {
   "codemirror_mode": {
    "name": "ipython",
    "version": 3
   },
   "file_extension": ".py",
   "mimetype": "text/x-python",
   "name": "python",
   "nbconvert_exporter": "python",
   "pygments_lexer": "ipython3",
   "version": "3.7.6"
  }
 },
 "nbformat": 4,
 "nbformat_minor": 4
}
